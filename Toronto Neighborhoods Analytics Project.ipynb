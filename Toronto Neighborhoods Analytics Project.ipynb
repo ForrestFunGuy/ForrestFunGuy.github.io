{
    "cells": [
        {
            "cell_type": "markdown",
            "metadata": {
                "collapsed": true
            },
            "source": "# Toronto Neighborhoods Analytics Project"
        },
        {
            "cell_type": "markdown",
            "metadata": {},
            "source": "## First, get the data"
        },
        {
            "cell_type": "code",
            "execution_count": 30,
            "metadata": {},
            "outputs": [
                {
                    "name": "stdout",
                    "output_type": "stream",
                    "text": "Requirement already satisfied: BeautifulSoup4 in /opt/conda/envs/Python36/lib/python3.6/site-packages (4.7.1)\nRequirement already satisfied: soupsieve>=1.2 in /opt/conda/envs/Python36/lib/python3.6/site-packages (from BeautifulSoup4) (1.7.1)\nRequirement already satisfied: requests in /opt/conda/envs/Python36/lib/python3.6/site-packages (2.21.0)\nRequirement already satisfied: idna<2.9,>=2.5 in /opt/conda/envs/Python36/lib/python3.6/site-packages (from requests) (2.8)\nRequirement already satisfied: chardet<3.1.0,>=3.0.2 in /opt/conda/envs/Python36/lib/python3.6/site-packages (from requests) (3.0.4)\nRequirement already satisfied: certifi>=2017.4.17 in /opt/conda/envs/Python36/lib/python3.6/site-packages (from requests) (2019.11.28)\nRequirement already satisfied: urllib3<1.25,>=1.21.1 in /opt/conda/envs/Python36/lib/python3.6/site-packages (from requests) (1.24.1)\n"
                }
            ],
            "source": "#install Beautiful Soup and requests for Web Scaping\n!pip install BeautifulSoup4\n!pip install requests"
        },
        {
            "cell_type": "code",
            "execution_count": 57,
            "metadata": {},
            "outputs": [
                {
                    "data": {
                        "text/html": "<div>\n<style scoped>\n    .dataframe tbody tr th:only-of-type {\n        vertical-align: middle;\n    }\n\n    .dataframe tbody tr th {\n        vertical-align: top;\n    }\n\n    .dataframe thead th {\n        text-align: right;\n    }\n</style>\n<table border=\"1\" class=\"dataframe\">\n  <thead>\n    <tr style=\"text-align: right;\">\n      <th></th>\n      <th>Postal code</th>\n      <th>Borough</th>\n      <th>Neighborhood</th>\n    </tr>\n  </thead>\n  <tbody>\n    <tr>\n      <th>0</th>\n      <td>M1A</td>\n      <td>Not assigned</td>\n      <td></td>\n    </tr>\n    <tr>\n      <th>1</th>\n      <td>M2A</td>\n      <td>Not assigned</td>\n      <td></td>\n    </tr>\n    <tr>\n      <th>2</th>\n      <td>M3A</td>\n      <td>North York</td>\n      <td>Parkwoods</td>\n    </tr>\n    <tr>\n      <th>3</th>\n      <td>M4A</td>\n      <td>North York</td>\n      <td>Victoria Village</td>\n    </tr>\n    <tr>\n      <th>4</th>\n      <td>M5A</td>\n      <td>Downtown Toronto</td>\n      <td>Regent Park / Harbourfront</td>\n    </tr>\n  </tbody>\n</table>\n</div>",
                        "text/plain": "  Postal code           Borough                Neighborhood\n0         M1A      Not assigned                            \n1         M2A      Not assigned                            \n2         M3A        North York                   Parkwoods\n3         M4A        North York            Victoria Village\n4         M5A  Downtown Toronto  Regent Park / Harbourfront"
                    },
                    "execution_count": 57,
                    "metadata": {},
                    "output_type": "execute_result"
                }
            ],
            "source": "#imports\nfrom bs4 import BeautifulSoup\nimport requests\nimport pandas as pd\nimport numpy as np\n\n#get html from wiki page and create soup object\nsource = requests.get(\"https://en.wikipedia.org/wiki/List_of_postal_codes_of_Canada:_M\")\nsoup = BeautifulSoup(source.text, 'lxml')\n\n#using soup object, iterate the .wikitable to get the data from the HTML page and store it into a list\ndata = []\ncolumns = []\ntable = soup.find(class_='wikitable')\nfor index, tr in enumerate(table.find_all('tr')):\n    section = []\n    for td in tr.find_all(['th','td']):\n        section.append(td.text.rstrip())\n    \n    #First row of data is the header\n    if (index == 0):\n        columns = section\n    else:\n        data.append(section)\n\n#convert list into Pandas DataFrame\ncanada_df = pd.DataFrame(data = data,columns = columns)\ncanada_df.head()"
        },
        {
            "cell_type": "code",
            "execution_count": 58,
            "metadata": {},
            "outputs": [
                {
                    "data": {
                        "text/html": "<div>\n<style scoped>\n    .dataframe tbody tr th:only-of-type {\n        vertical-align: middle;\n    }\n\n    .dataframe tbody tr th {\n        vertical-align: top;\n    }\n\n    .dataframe thead th {\n        text-align: right;\n    }\n</style>\n<table border=\"1\" class=\"dataframe\">\n  <thead>\n    <tr style=\"text-align: right;\">\n      <th></th>\n      <th>Postal code</th>\n      <th>Borough</th>\n      <th>Neighborhood</th>\n    </tr>\n  </thead>\n  <tbody>\n    <tr>\n      <th>2</th>\n      <td>M3A</td>\n      <td>North York</td>\n      <td>Parkwoods</td>\n    </tr>\n    <tr>\n      <th>3</th>\n      <td>M4A</td>\n      <td>North York</td>\n      <td>Victoria Village</td>\n    </tr>\n    <tr>\n      <th>4</th>\n      <td>M5A</td>\n      <td>Downtown Toronto</td>\n      <td>Regent Park / Harbourfront</td>\n    </tr>\n    <tr>\n      <th>5</th>\n      <td>M6A</td>\n      <td>North York</td>\n      <td>Lawrence Manor / Lawrence Heights</td>\n    </tr>\n    <tr>\n      <th>6</th>\n      <td>M7A</td>\n      <td>Downtown Toronto</td>\n      <td>Queen's Park / Ontario Provincial Government</td>\n    </tr>\n  </tbody>\n</table>\n</div>",
                        "text/plain": "  Postal code           Borough                                  Neighborhood\n2         M3A        North York                                     Parkwoods\n3         M4A        North York                              Victoria Village\n4         M5A  Downtown Toronto                    Regent Park / Harbourfront\n5         M6A        North York             Lawrence Manor / Lawrence Heights\n6         M7A  Downtown Toronto  Queen's Park / Ontario Provincial Government"
                    },
                    "execution_count": 58,
                    "metadata": {},
                    "output_type": "execute_result"
                }
            ],
            "source": "#Remove Boroughs that are 'Not assigned'\ncanada_df = canada_df[canada_df['Borough'] != 'Not assigned']\ncanada_df.head()"
        },
        {
            "cell_type": "code",
            "execution_count": 59,
            "metadata": {},
            "outputs": [
                {
                    "data": {
                        "text/plain": "(103, 3)"
                    },
                    "execution_count": 59,
                    "metadata": {},
                    "output_type": "execute_result"
                }
            ],
            "source": "canada_df.shape"
        },
        {
            "cell_type": "code",
            "execution_count": null,
            "metadata": {},
            "outputs": [],
            "source": ""
        },
        {
            "cell_type": "code",
            "execution_count": 60,
            "metadata": {},
            "outputs": [
                {
                    "data": {
                        "text/html": "<div>\n<style scoped>\n    .dataframe tbody tr th:only-of-type {\n        vertical-align: middle;\n    }\n\n    .dataframe tbody tr th {\n        vertical-align: top;\n    }\n\n    .dataframe thead th {\n        text-align: right;\n    }\n</style>\n<table border=\"1\" class=\"dataframe\">\n  <thead>\n    <tr style=\"text-align: right;\">\n      <th></th>\n      <th>Postal code</th>\n      <th>Borough</th>\n      <th>Neighborhood</th>\n    </tr>\n  </thead>\n  <tbody>\n    <tr>\n      <th>2</th>\n      <td>M3A</td>\n      <td>North York</td>\n      <td>Parkwoods</td>\n    </tr>\n    <tr>\n      <th>3</th>\n      <td>M4A</td>\n      <td>North York</td>\n      <td>Victoria Village</td>\n    </tr>\n    <tr>\n      <th>4</th>\n      <td>M5A</td>\n      <td>Downtown Toronto</td>\n      <td>Regent Park / Harbourfront</td>\n    </tr>\n    <tr>\n      <th>5</th>\n      <td>M6A</td>\n      <td>North York</td>\n      <td>Lawrence Manor / Lawrence Heights</td>\n    </tr>\n    <tr>\n      <th>6</th>\n      <td>M7A</td>\n      <td>Downtown Toronto</td>\n      <td>Queen's Park / Ontario Provincial Government</td>\n    </tr>\n    <tr>\n      <th>8</th>\n      <td>M9A</td>\n      <td>Etobicoke</td>\n      <td>Islington Avenue</td>\n    </tr>\n    <tr>\n      <th>9</th>\n      <td>M1B</td>\n      <td>Scarborough</td>\n      <td>Malvern / Rouge</td>\n    </tr>\n    <tr>\n      <th>11</th>\n      <td>M3B</td>\n      <td>North York</td>\n      <td>Don Mills</td>\n    </tr>\n    <tr>\n      <th>12</th>\n      <td>M4B</td>\n      <td>East York</td>\n      <td>Parkview Hill / Woodbine Gardens</td>\n    </tr>\n    <tr>\n      <th>13</th>\n      <td>M5B</td>\n      <td>Downtown Toronto</td>\n      <td>Garden District, Ryerson</td>\n    </tr>\n  </tbody>\n</table>\n</div>",
                        "text/plain": "   Postal code           Borough                                  Neighborhood\n2          M3A        North York                                     Parkwoods\n3          M4A        North York                              Victoria Village\n4          M5A  Downtown Toronto                    Regent Park / Harbourfront\n5          M6A        North York             Lawrence Manor / Lawrence Heights\n6          M7A  Downtown Toronto  Queen's Park / Ontario Provincial Government\n8          M9A         Etobicoke                              Islington Avenue\n9          M1B       Scarborough                               Malvern / Rouge\n11         M3B        North York                                     Don Mills\n12         M4B         East York              Parkview Hill / Woodbine Gardens\n13         M5B  Downtown Toronto                      Garden District, Ryerson"
                    },
                    "execution_count": 60,
                    "metadata": {},
                    "output_type": "execute_result"
                }
            ],
            "source": "canada_df['Neighborhood'].replace(\"Not assigned\", canada_df[\"Borough\"],inplace=True)\ncanada_df.head(10)"
        },
        {
            "cell_type": "code",
            "execution_count": 63,
            "metadata": {},
            "outputs": [
                {
                    "data": {
                        "text/plain": "(103, 3)"
                    },
                    "execution_count": 63,
                    "metadata": {},
                    "output_type": "execute_result"
                }
            ],
            "source": "canada_df.shape"
        },
        {
            "cell_type": "markdown",
            "metadata": {},
            "source": "## Part 2 Merge data"
        },
        {
            "cell_type": "code",
            "execution_count": 68,
            "metadata": {},
            "outputs": [
                {
                    "name": "stdout",
                    "output_type": "stream",
                    "text": "Data downloaded!\n"
                }
            ],
            "source": "!wget -q -O 'Geospatial_data.csv' http://cocl.us/Geospatial_data\nprint('Data downloaded!')"
        },
        {
            "cell_type": "code",
            "execution_count": 69,
            "metadata": {},
            "outputs": [
                {
                    "data": {
                        "text/html": "<div>\n<style scoped>\n    .dataframe tbody tr th:only-of-type {\n        vertical-align: middle;\n    }\n\n    .dataframe tbody tr th {\n        vertical-align: top;\n    }\n\n    .dataframe thead th {\n        text-align: right;\n    }\n</style>\n<table border=\"1\" class=\"dataframe\">\n  <thead>\n    <tr style=\"text-align: right;\">\n      <th></th>\n      <th>Postal Code</th>\n      <th>Latitude</th>\n      <th>Longitude</th>\n    </tr>\n  </thead>\n  <tbody>\n    <tr>\n      <th>0</th>\n      <td>M1B</td>\n      <td>43.806686</td>\n      <td>-79.194353</td>\n    </tr>\n    <tr>\n      <th>1</th>\n      <td>M1C</td>\n      <td>43.784535</td>\n      <td>-79.160497</td>\n    </tr>\n    <tr>\n      <th>2</th>\n      <td>M1E</td>\n      <td>43.763573</td>\n      <td>-79.188711</td>\n    </tr>\n    <tr>\n      <th>3</th>\n      <td>M1G</td>\n      <td>43.770992</td>\n      <td>-79.216917</td>\n    </tr>\n    <tr>\n      <th>4</th>\n      <td>M1H</td>\n      <td>43.773136</td>\n      <td>-79.239476</td>\n    </tr>\n  </tbody>\n</table>\n</div>",
                        "text/plain": "  Postal Code   Latitude  Longitude\n0         M1B  43.806686 -79.194353\n1         M1C  43.784535 -79.160497\n2         M1E  43.763573 -79.188711\n3         M1G  43.770992 -79.216917\n4         M1H  43.773136 -79.239476"
                    },
                    "execution_count": 69,
                    "metadata": {},
                    "output_type": "execute_result"
                }
            ],
            "source": "Geospatial_data = pd.read_csv('Geospatial_data.csv')\nGeospatial_data.head()"
        },
        {
            "cell_type": "code",
            "execution_count": 71,
            "metadata": {},
            "outputs": [],
            "source": "Geospatial_data.rename(columns={'Postal Code': 'Postal code'}, inplace=True)"
        },
        {
            "cell_type": "code",
            "execution_count": 73,
            "metadata": {},
            "outputs": [
                {
                    "data": {
                        "text/html": "<div>\n<style scoped>\n    .dataframe tbody tr th:only-of-type {\n        vertical-align: middle;\n    }\n\n    .dataframe tbody tr th {\n        vertical-align: top;\n    }\n\n    .dataframe thead th {\n        text-align: right;\n    }\n</style>\n<table border=\"1\" class=\"dataframe\">\n  <thead>\n    <tr style=\"text-align: right;\">\n      <th></th>\n      <th>Postal code</th>\n      <th>Borough</th>\n      <th>Neighborhood</th>\n      <th>Latitude</th>\n      <th>Longitude</th>\n    </tr>\n  </thead>\n  <tbody>\n    <tr>\n      <th>0</th>\n      <td>M1B</td>\n      <td>Scarborough</td>\n      <td>Malvern / Rouge</td>\n      <td>43.806686</td>\n      <td>-79.194353</td>\n    </tr>\n    <tr>\n      <th>1</th>\n      <td>M1C</td>\n      <td>Scarborough</td>\n      <td>Rouge Hill / Port Union / Highland Creek</td>\n      <td>43.784535</td>\n      <td>-79.160497</td>\n    </tr>\n    <tr>\n      <th>2</th>\n      <td>M1E</td>\n      <td>Scarborough</td>\n      <td>Guildwood / Morningside / West Hill</td>\n      <td>43.763573</td>\n      <td>-79.188711</td>\n    </tr>\n    <tr>\n      <th>3</th>\n      <td>M1G</td>\n      <td>Scarborough</td>\n      <td>Woburn</td>\n      <td>43.770992</td>\n      <td>-79.216917</td>\n    </tr>\n    <tr>\n      <th>4</th>\n      <td>M1H</td>\n      <td>Scarborough</td>\n      <td>Cedarbrae</td>\n      <td>43.773136</td>\n      <td>-79.239476</td>\n    </tr>\n  </tbody>\n</table>\n</div>",
                        "text/plain": "  Postal code      Borough                              Neighborhood  \\\n0         M1B  Scarborough                           Malvern / Rouge   \n1         M1C  Scarborough  Rouge Hill / Port Union / Highland Creek   \n2         M1E  Scarborough       Guildwood / Morningside / West Hill   \n3         M1G  Scarborough                                    Woburn   \n4         M1H  Scarborough                                 Cedarbrae   \n\n    Latitude  Longitude  \n0  43.806686 -79.194353  \n1  43.784535 -79.160497  \n2  43.763573 -79.188711  \n3  43.770992 -79.216917  \n4  43.773136 -79.239476  "
                    },
                    "execution_count": 73,
                    "metadata": {},
                    "output_type": "execute_result"
                }
            ],
            "source": "data1 = pd.merge(canada_df, Geospatial_data, how='inner', on=None, left_on=None, right_on=None,\n         left_index=False, right_index=False, sort=True,\n         suffixes=('_x', '_y'), copy=True, indicator=False,\n         validate=None)\n\ndata1.head()"
        },
        {
            "cell_type": "code",
            "execution_count": 75,
            "metadata": {},
            "outputs": [
                {
                    "name": "stdout",
                    "output_type": "stream",
                    "text": "<class 'pandas.core.frame.DataFrame'>\nInt64Index: 103 entries, 0 to 102\nData columns (total 5 columns):\nPostal code     103 non-null object\nBorough         103 non-null object\nNeighborhood    103 non-null object\nLatitude        103 non-null float64\nLongitude       103 non-null float64\ndtypes: float64(2), object(3)\nmemory usage: 4.8+ KB\n"
                }
            ],
            "source": "data1.info()"
        },
        {
            "cell_type": "code",
            "execution_count": 76,
            "metadata": {},
            "outputs": [],
            "source": "data1.to_csv('sorted_geoloc.csv')"
        },
        {
            "cell_type": "markdown",
            "metadata": {},
            "source": "## Part 3 Analytics data"
        },
        {
            "cell_type": "code",
            "execution_count": 79,
            "metadata": {},
            "outputs": [
                {
                    "name": "stdout",
                    "output_type": "stream",
                    "text": "Solving environment: done\n\n## Package Plan ##\n\n  environment location: /opt/conda/envs/Python36\n\n  added / updated specs: \n    - folium=0.5.0\n\n\nThe following packages will be downloaded:\n\n    package                    |            build\n    ---------------------------|-----------------\n    openssl-1.1.1f             |       h516909a_0         2.1 MB  conda-forge\n    vincent-0.4.4              |             py_1          28 KB  conda-forge\n    branca-0.4.0               |             py_0          26 KB  conda-forge\n    python_abi-3.6             |          1_cp36m           4 KB  conda-forge\n    altair-4.1.0               |             py_1         614 KB  conda-forge\n    ca-certificates-2020.4.5.1 |       hecc5488_0         146 KB  conda-forge\n    folium-0.5.0               |             py_0          45 KB  conda-forge\n    certifi-2020.4.5.1         |   py36h9f0ad1d_0         151 KB  conda-forge\n    ------------------------------------------------------------\n                                           Total:         3.1 MB\n\nThe following NEW packages will be INSTALLED:\n\n    altair:          4.1.0-py_1        conda-forge\n    branca:          0.4.0-py_0        conda-forge\n    folium:          0.5.0-py_0        conda-forge\n    python_abi:      3.6-1_cp36m       conda-forge\n    vincent:         0.4.4-py_1        conda-forge\n\nThe following packages will be UPDATED:\n\n    ca-certificates: 2020.1.1-0                    --> 2020.4.5.1-hecc5488_0     conda-forge\n    certifi:         2019.11.28-py36_0             --> 2020.4.5.1-py36h9f0ad1d_0 conda-forge\n    openssl:         1.1.1e-h7b6447c_0             --> 1.1.1f-h516909a_0         conda-forge\n\n\nDownloading and Extracting Packages\nopenssl-1.1.1f       | 2.1 MB    | ##################################### | 100% \nvincent-0.4.4        | 28 KB     | ##################################### | 100% \nbranca-0.4.0         | 26 KB     | ##################################### | 100% \npython_abi-3.6       | 4 KB      | ##################################### | 100% \naltair-4.1.0         | 614 KB    | ##################################### | 100% \nca-certificates-2020 | 146 KB    | ##################################### | 100% \nfolium-0.5.0         | 45 KB     | ##################################### | 100% \ncertifi-2020.4.5.1   | 151 KB    | ##################################### | 100% \nPreparing transaction: done\nVerifying transaction: done\nExecuting transaction: done\nLibraries imported.\n"
                }
            ],
            "source": "import numpy as np # library to handle data in a vectorized manner\n\nimport pandas as pd # library for data analsysis\npd.set_option('display.max_columns', None)\npd.set_option('display.max_rows', None)\n\nimport json # library to handle JSON files\n\n#!conda install -c conda-forge geopy --yes # uncomment this line if you haven't completed the Foursquare API lab\nfrom geopy.geocoders import Nominatim # convert an address into latitude and longitude values\n\nimport requests # library to handle requests\nfrom pandas.io.json import json_normalize # tranform JSON file into a pandas dataframe\n\n# Matplotlib and associated plotting modules\nimport matplotlib.cm as cm\nimport matplotlib.colors as colors\n\n# import k-means from clustering stage\nfrom sklearn.cluster import KMeans\n\n!conda install -c conda-forge folium=0.5.0 --yes # uncomment this line if you haven't completed the Foursquare API lab\nimport folium # map rendering library\n\nprint('Libraries imported.')"
        },
        {
            "cell_type": "code",
            "execution_count": 80,
            "metadata": {},
            "outputs": [],
            "source": "import pandas as pd\n\nimport json\n\ndata1.to_json(path_or_buf='geo_toronto.json', orient='table')"
        },
        {
            "cell_type": "code",
            "execution_count": 81,
            "metadata": {},
            "outputs": [],
            "source": "with open('geo_toronto.json') as json_data:\n    Toronto_data = json.load(json_data)"
        },
        {
            "cell_type": "code",
            "execution_count": 82,
            "metadata": {},
            "outputs": [
                {
                    "data": {
                        "text/plain": "{'index': 0,\n 'Postal code': 'M1B',\n 'Borough': 'Scarborough',\n 'Neighborhood': 'Malvern / Rouge',\n 'Latitude': 43.8066863,\n 'Longitude': -79.1943534}"
                    },
                    "execution_count": 82,
                    "metadata": {},
                    "output_type": "execute_result"
                }
            ],
            "source": "neighborhoods_data = Toronto_data['data']\nneighborhoods_data[0]"
        },
        {
            "cell_type": "code",
            "execution_count": 83,
            "metadata": {},
            "outputs": [
                {
                    "name": "stdout",
                    "output_type": "stream",
                    "text": "<class 'pandas.core.frame.DataFrame'>\nInt64Index: 103 entries, 0 to 102\nData columns (total 5 columns):\nPostal code     103 non-null object\nBorough         103 non-null object\nNeighborhood    103 non-null object\nLatitude        103 non-null float64\nLongitude       103 non-null float64\ndtypes: float64(2), object(3)\nmemory usage: 9.8+ KB\n"
                },
                {
                    "data": {
                        "text/plain": "(103, 5)"
                    },
                    "execution_count": 83,
                    "metadata": {},
                    "output_type": "execute_result"
                }
            ],
            "source": "data1.info()\ndata1.shape"
        },
        {
            "cell_type": "code",
            "execution_count": 84,
            "metadata": {},
            "outputs": [
                {
                    "data": {
                        "text/html": "<div>\n<style scoped>\n    .dataframe tbody tr th:only-of-type {\n        vertical-align: middle;\n    }\n\n    .dataframe tbody tr th {\n        vertical-align: top;\n    }\n\n    .dataframe thead th {\n        text-align: right;\n    }\n</style>\n<table border=\"1\" class=\"dataframe\">\n  <thead>\n    <tr style=\"text-align: right;\">\n      <th></th>\n      <th>Postal code</th>\n      <th>Borough</th>\n      <th>Neighborhood</th>\n      <th>Latitude</th>\n      <th>Longitude</th>\n    </tr>\n  </thead>\n  <tbody>\n    <tr>\n      <th>0</th>\n      <td>M1B</td>\n      <td>Scarborough</td>\n      <td>Malvern / Rouge</td>\n      <td>43.806686</td>\n      <td>-79.194353</td>\n    </tr>\n    <tr>\n      <th>1</th>\n      <td>M1C</td>\n      <td>Scarborough</td>\n      <td>Rouge Hill / Port Union / Highland Creek</td>\n      <td>43.784535</td>\n      <td>-79.160497</td>\n    </tr>\n    <tr>\n      <th>2</th>\n      <td>M1E</td>\n      <td>Scarborough</td>\n      <td>Guildwood / Morningside / West Hill</td>\n      <td>43.763573</td>\n      <td>-79.188711</td>\n    </tr>\n    <tr>\n      <th>3</th>\n      <td>M1G</td>\n      <td>Scarborough</td>\n      <td>Woburn</td>\n      <td>43.770992</td>\n      <td>-79.216917</td>\n    </tr>\n    <tr>\n      <th>4</th>\n      <td>M1H</td>\n      <td>Scarborough</td>\n      <td>Cedarbrae</td>\n      <td>43.773136</td>\n      <td>-79.239476</td>\n    </tr>\n  </tbody>\n</table>\n</div>",
                        "text/plain": "  Postal code      Borough                              Neighborhood  \\\n0         M1B  Scarborough                           Malvern / Rouge   \n1         M1C  Scarborough  Rouge Hill / Port Union / Highland Creek   \n2         M1E  Scarborough       Guildwood / Morningside / West Hill   \n3         M1G  Scarborough                                    Woburn   \n4         M1H  Scarborough                                 Cedarbrae   \n\n    Latitude  Longitude  \n0  43.806686 -79.194353  \n1  43.784535 -79.160497  \n2  43.763573 -79.188711  \n3  43.770992 -79.216917  \n4  43.773136 -79.239476  "
                    },
                    "execution_count": 84,
                    "metadata": {},
                    "output_type": "execute_result"
                }
            ],
            "source": "data1.head()"
        },
        {
            "cell_type": "code",
            "execution_count": 85,
            "metadata": {},
            "outputs": [
                {
                    "name": "stdout",
                    "output_type": "stream",
                    "text": "The dataframe has 10 boroughs and 103 neighborhoods.\n"
                }
            ],
            "source": "print('The dataframe has {} boroughs and {} neighborhoods.'.format(\n        len(data1['Borough'].unique()),\n        data1.shape[0]\n    )\n)"
        },
        {
            "cell_type": "code",
            "execution_count": 86,
            "metadata": {},
            "outputs": [
                {
                    "name": "stderr",
                    "output_type": "stream",
                    "text": "/opt/conda/envs/Python36/lib/python3.6/site-packages/ipykernel/__main__.py:3: DeprecationWarning: Using Nominatim with the default \"geopy/1.18.1\" `user_agent` is strongly discouraged, as it violates Nominatim's ToS https://operations.osmfoundation.org/policies/nominatim/ and may possibly cause 403 and 429 HTTP errors. Please specify a custom `user_agent` with `Nominatim(user_agent=\"my-application\")` or by overriding the default `user_agent`: `geopy.geocoders.options.default_user_agent = \"my-application\"`. In geopy 2.0 this will become an exception.\n  app.launch_new_instance()\n"
                },
                {
                    "name": "stdout",
                    "output_type": "stream",
                    "text": "The geograpical coordinate of Adelaide are -34.9281805, 138.5999312.\n"
                }
            ],
            "source": "address = 'Adelaide'\n\ngeolocator = Nominatim()\nlocation = geolocator.geocode(address)\nlatitude = location.latitude\nlongitude = location.longitude\nprint('The geograpical coordinate of Adelaide are {}, {}.'.format(latitude, longitude))"
        },
        {
            "cell_type": "code",
            "execution_count": 87,
            "metadata": {},
            "outputs": [
                {
                    "name": "stdout",
                    "output_type": "stream",
                    "text": "Solving environment: done\n\n# All requested packages already installed.\n\n"
                }
            ],
            "source": "!conda install -c conda-forge folium=0.5.0 "
        },
        {
            "cell_type": "markdown",
            "metadata": {},
            "source": "## Ready to generate maps, open them on your browser"
        },
        {
            "cell_type": "code",
            "execution_count": 91,
            "metadata": {},
            "outputs": [],
            "source": "map_toronto_neighborhoods = folium.Map(location=[latitude, longitude], zoom_start=10)\n\n# add markers to map\nfor lat, lng, borough, neighborhood in zip(data1['Latitude'], data1['Longitude'], data1['Borough'], data1['Neighborhood']):\n    label = '{}, {}'.format(neighborhood, borough)\n    label = folium.Popup(label, parse_html=True)\n    folium.CircleMarker(\n        [lat, lng],\n        radius=2,\n        popup=label,\n        color='blue',\n        fill=True,\n        fill_color='#3186cc',\n        fill_opacity=0.7,\n        parse_html=False).add_to(map_toronto_neighbourhoods)  \n    \nmap_toronto_neighbourhoods\n\nmap_toronto_neighbourhoods.save(\"map_toronto_neighbourhoods.html\")\n\n#open map_toronto_neighbourhoods.html in browser\n#if you cannot generate the maps open PGA_map_*.html from the zip file"
        },
        {
            "cell_type": "code",
            "execution_count": 92,
            "metadata": {},
            "outputs": [
                {
                    "name": "stderr",
                    "output_type": "stream",
                    "text": "/opt/conda/envs/Python36/lib/python3.6/site-packages/ipykernel/__main__.py:3: DeprecationWarning: Using Nominatim with the default \"geopy/1.18.1\" `user_agent` is strongly discouraged, as it violates Nominatim's ToS https://operations.osmfoundation.org/policies/nominatim/ and may possibly cause 403 and 429 HTTP errors. Please specify a custom `user_agent` with `Nominatim(user_agent=\"my-application\")` or by overriding the default `user_agent`: `geopy.geocoders.options.default_user_agent = \"my-application\"`. In geopy 2.0 this will become an exception.\n  app.launch_new_instance()\n"
                },
                {
                    "name": "stdout",
                    "output_type": "stream",
                    "text": "The geograpical coordinates of York, Toronto are 43.67910515, -79.49118414007154.\n"
                }
            ],
            "source": "address = 'York, Toronto'\n\ngeolocator = Nominatim()\nlocation = geolocator.geocode(address)\nlatitude = location.latitude\nlongitude = location.longitude\nprint('The geograpical coordinates of York, Toronto are {}, {}.'.format(latitude, longitude))"
        },
        {
            "cell_type": "code",
            "execution_count": 94,
            "metadata": {},
            "outputs": [
                {
                    "data": {
                        "text/html": "<div>\n<style scoped>\n    .dataframe tbody tr th:only-of-type {\n        vertical-align: middle;\n    }\n\n    .dataframe tbody tr th {\n        vertical-align: top;\n    }\n\n    .dataframe thead th {\n        text-align: right;\n    }\n</style>\n<table border=\"1\" class=\"dataframe\">\n  <thead>\n    <tr style=\"text-align: right;\">\n      <th></th>\n      <th>Postal code</th>\n      <th>Borough</th>\n      <th>Neighborhood</th>\n      <th>Latitude</th>\n      <th>Longitude</th>\n    </tr>\n  </thead>\n  <tbody>\n    <tr>\n      <th>0</th>\n      <td>M6C</td>\n      <td>York</td>\n      <td>Humewood-Cedarvale</td>\n      <td>43.693781</td>\n      <td>-79.428191</td>\n    </tr>\n    <tr>\n      <th>1</th>\n      <td>M6E</td>\n      <td>York</td>\n      <td>Caledonia-Fairbanks</td>\n      <td>43.689026</td>\n      <td>-79.453512</td>\n    </tr>\n    <tr>\n      <th>2</th>\n      <td>M6M</td>\n      <td>York</td>\n      <td>Del Ray / Mount Dennis / Keelsdale and Silvert...</td>\n      <td>43.691116</td>\n      <td>-79.476013</td>\n    </tr>\n    <tr>\n      <th>3</th>\n      <td>M6N</td>\n      <td>York</td>\n      <td>Runnymede / The Junction North</td>\n      <td>43.673185</td>\n      <td>-79.487262</td>\n    </tr>\n    <tr>\n      <th>4</th>\n      <td>M9N</td>\n      <td>York</td>\n      <td>Weston</td>\n      <td>43.706876</td>\n      <td>-79.518188</td>\n    </tr>\n  </tbody>\n</table>\n</div>",
                        "text/plain": "  Postal code Borough                                       Neighborhood  \\\n0         M6C    York                                 Humewood-Cedarvale   \n1         M6E    York                                Caledonia-Fairbanks   \n2         M6M    York  Del Ray / Mount Dennis / Keelsdale and Silvert...   \n3         M6N    York                     Runnymede / The Junction North   \n4         M9N    York                                             Weston   \n\n    Latitude  Longitude  \n0  43.693781 -79.428191  \n1  43.689026 -79.453512  \n2  43.691116 -79.476013  \n3  43.673185 -79.487262  \n4  43.706876 -79.518188  "
                    },
                    "execution_count": 94,
                    "metadata": {},
                    "output_type": "execute_result"
                }
            ],
            "source": "york_data = data1[data1['Borough'] == 'York'].reset_index(drop=True)\nyork_data"
        },
        {
            "cell_type": "code",
            "execution_count": 95,
            "metadata": {},
            "outputs": [
                {
                    "name": "stdout",
                    "output_type": "stream",
                    "text": "<class 'pandas.core.frame.DataFrame'>\nRangeIndex: 5 entries, 0 to 4\nData columns (total 5 columns):\nPostal code     5 non-null object\nBorough         5 non-null object\nNeighborhood    5 non-null object\nLatitude        5 non-null float64\nLongitude       5 non-null float64\ndtypes: float64(2), object(3)\nmemory usage: 280.0+ bytes\n"
                }
            ],
            "source": "york_data.info()"
        },
        {
            "cell_type": "code",
            "execution_count": 97,
            "metadata": {},
            "outputs": [],
            "source": "map_york_toronto = folium.Map(location=[latitude, longitude], zoom_start=11)\n\n# add markers to map\nfor lat, lng, label in zip(york_data['Latitude'], york_data['Longitude'], york_data['Neighborhood']):\n    label = folium.Popup(label, parse_html=True)\n    folium.CircleMarker(\n        [lat, lng],\n        radius=5,\n        popup=label,\n        color='blue',\n        fill=True,\n        fill_color='#3186cc',\n        fill_opacity=0.7,\n        parse_html=False).add_to(map_york_toronto)  \n    \nmap_york_toronto\n\nmap_york_toronto.save(\"map_york_toronto.html\")"
        },
        {
            "cell_type": "code",
            "execution_count": 98,
            "metadata": {},
            "outputs": [
                {
                    "name": "stdout",
                    "output_type": "stream",
                    "text": "Latitude and longitude values of Humewood-Cedarvale are 43.6937813, -79.42819140000002.\n"
                }
            ],
            "source": "neighbourhood_latitude = york_data.loc[0, 'Latitude'] # neighborhood latitude value\nneighbourhood_longitude = york_data.loc[0, 'Longitude'] # neighborhood longitude value\n\nneighbourhood_name = york_data.loc[0, 'Neighborhood'] # neighborhood name\n\nprint('Latitude and longitude values of {} are {}, {}.'.format(neighbourhood_name, \n                                                               neighbourhood_latitude, \n                                                               neighbourhood_longitude))"
        },
        {
            "cell_type": "code",
            "execution_count": 102,
            "metadata": {},
            "outputs": [],
            "source": "LIMIT = 100\n\nradius = 500\n\nurl = 'https://api.foursquare.com/v2/venues/explore?&client_id={}&client_secret={}&v={}&ll={},{}&radius={}&limit={}'.format(\n            'LVR251M4E2M5F5SUBZZNISUPIIRXAC2AV1P1POTZUDSBVDP2', \n            '0VJC2SHNRFK5GEYLEGBQ43PEOI2YDLW4T4ZG1QGSI1P5T3AM', \n            '20200409', \n            lat, \n            lng, \n            radius, \n            LIMIT)"
        },
        {
            "cell_type": "code",
            "execution_count": 103,
            "metadata": {},
            "outputs": [],
            "source": "york_results = requests.get(url).json()\n#york_results"
        },
        {
            "cell_type": "code",
            "execution_count": 106,
            "metadata": {},
            "outputs": [],
            "source": "def get_category_type(row):\n    try:\n        categories_list = row['categories']\n    except:\n        categories_list = row['venue.categories']\n        \n    if len(categories_list) == 0:\n        return None\n    else:\n        return categories_list[0]['name']"
        },
        {
            "cell_type": "code",
            "execution_count": 107,
            "metadata": {},
            "outputs": [
                {
                    "data": {
                        "text/html": "<div>\n<style scoped>\n    .dataframe tbody tr th:only-of-type {\n        vertical-align: middle;\n    }\n\n    .dataframe tbody tr th {\n        vertical-align: top;\n    }\n\n    .dataframe thead th {\n        text-align: right;\n    }\n</style>\n<table border=\"1\" class=\"dataframe\">\n  <thead>\n    <tr style=\"text-align: right;\">\n      <th></th>\n      <th>name</th>\n      <th>categories</th>\n      <th>lat</th>\n      <th>lng</th>\n    </tr>\n  </thead>\n  <tbody>\n    <tr>\n      <th>0</th>\n      <td>Grattan Park</td>\n      <td>Park</td>\n      <td>43.706222</td>\n      <td>-79.521705</td>\n    </tr>\n  </tbody>\n</table>\n</div>",
                        "text/plain": "           name categories        lat        lng\n0  Grattan Park       Park  43.706222 -79.521705"
                    },
                    "execution_count": 107,
                    "metadata": {},
                    "output_type": "execute_result"
                }
            ],
            "source": "york_venues = york_results['response']['groups'][0]['items']\n    \nyork_nearby_venues = json_normalize(york_venues) # flatten JSON\n\n# filter columns\nyork_filtered_columns = ['venue.name', 'venue.categories', 'venue.location.lat', 'venue.location.lng']\nyork_nearby_venues = york_nearby_venues.loc[:, york_filtered_columns]\n\n# filter the category for each row\nyork_nearby_venues['venue.categories'] = york_nearby_venues.apply(get_category_type, axis=1)\n\n# clean columns\nyork_nearby_venues.columns = [col.split(\".\")[-1] for col in york_nearby_venues.columns]\n\nyork_nearby_venues.head()"
        },
        {
            "cell_type": "code",
            "execution_count": 108,
            "metadata": {},
            "outputs": [
                {
                    "name": "stdout",
                    "output_type": "stream",
                    "text": "<class 'pandas.core.frame.DataFrame'>\nRangeIndex: 1 entries, 0 to 0\nData columns (total 4 columns):\nname          1 non-null object\ncategories    1 non-null object\nlat           1 non-null float64\nlng           1 non-null float64\ndtypes: float64(2), object(2)\nmemory usage: 112.0+ bytes\n"
                }
            ],
            "source": "york_nearby_venues.info()"
        },
        {
            "cell_type": "code",
            "execution_count": 110,
            "metadata": {},
            "outputs": [
                {
                    "name": "stdout",
                    "output_type": "stream",
                    "text": "1 venues were returned by Foursquare.\n"
                }
            ],
            "source": "print('{} venues were returned by Foursquare.'.format(york_nearby_venues.shape[0]))"
        },
        {
            "cell_type": "code",
            "execution_count": 111,
            "metadata": {},
            "outputs": [],
            "source": "def getNearbyVenues(names, latitudes, longitudes, radius=500):\n    \n    venues_list=[]\n    for name, lat, lng in zip(names, latitudes, longitudes):\n        print(name)\n            \n        # create the API request URL\n        url = 'https://api.foursquare.com/v2/venues/explore?&client_id={}&client_secret={}&v={}&ll={},{}&radius={}&limit={}'.format(\n              'LVR251M4E2M5F5SUBZZNISUPIIRXAC2AV1P1POTZUDSBVDP2', \n              '0VJC2SHNRFK5GEYLEGBQ43PEOI2YDLW4T4ZG1QGSI1P5T3AM', \n              '20200409', \n               lat, \n               lng, \n               radius, \n               LIMIT)\n            \n        # make the GET request\n        results = requests.get(url).json()[\"response\"]['groups'][0]['items']\n        \n        # return only relevant information for each nearby venue\n        venues_list.append([(\n            name, \n            lat, \n            lng, \n            v['venue']['name'], \n            v['venue']['location']['lat'], \n            v['venue']['location']['lng'],  \n            v['venue']['categories'][0]['name']) for v in results])\n\n    nearby_venues = pd.DataFrame([item for venue_list in venues_list for item in venue_list])\n    nearby_venues.columns = ['Neighborhood', \n                  'Neighborhood Latitude', \n                  'Neighborhood Longitude', \n                  'Venue', \n                  'Venue Latitude', \n                  'Venue Longitude', \n                  'Venue Category']\n    \n    return(nearby_venues)"
        },
        {
            "cell_type": "code",
            "execution_count": 112,
            "metadata": {},
            "outputs": [
                {
                    "name": "stdout",
                    "output_type": "stream",
                    "text": "Humewood-Cedarvale\nCaledonia-Fairbanks\nDel Ray / Mount Dennis / Keelsdale and Silverthorn\nRunnymede / The Junction North\nWeston\n"
                }
            ],
            "source": "york_venues = getNearbyVenues(names=york_data['Neighborhood'],\n                                   latitudes=york_data['Latitude'],\n                                   longitudes=york_data['Longitude']\n                                  )"
        },
        {
            "cell_type": "code",
            "execution_count": 113,
            "metadata": {},
            "outputs": [
                {
                    "data": {
                        "text/html": "<div>\n<style scoped>\n    .dataframe tbody tr th:only-of-type {\n        vertical-align: middle;\n    }\n\n    .dataframe tbody tr th {\n        vertical-align: top;\n    }\n\n    .dataframe thead th {\n        text-align: right;\n    }\n</style>\n<table border=\"1\" class=\"dataframe\">\n  <thead>\n    <tr style=\"text-align: right;\">\n      <th></th>\n      <th>Neighborhood</th>\n      <th>Neighborhood Latitude</th>\n      <th>Neighborhood Longitude</th>\n      <th>Venue</th>\n      <th>Venue Latitude</th>\n      <th>Venue Longitude</th>\n      <th>Venue Category</th>\n    </tr>\n  </thead>\n  <tbody>\n    <tr>\n      <th>0</th>\n      <td>Humewood-Cedarvale</td>\n      <td>43.693781</td>\n      <td>-79.428191</td>\n      <td>Cedarvale Park</td>\n      <td>43.692535</td>\n      <td>-79.428705</td>\n      <td>Field</td>\n    </tr>\n    <tr>\n      <th>1</th>\n      <td>Humewood-Cedarvale</td>\n      <td>43.693781</td>\n      <td>-79.428191</td>\n      <td>Cedarvale Ravine</td>\n      <td>43.690188</td>\n      <td>-79.426106</td>\n      <td>Trail</td>\n    </tr>\n    <tr>\n      <th>2</th>\n      <td>Humewood-Cedarvale</td>\n      <td>43.693781</td>\n      <td>-79.428191</td>\n      <td>Cedarvale Dog Park</td>\n      <td>43.692036</td>\n      <td>-79.429491</td>\n      <td>Dog Run</td>\n    </tr>\n    <tr>\n      <th>3</th>\n      <td>Humewood-Cedarvale</td>\n      <td>43.693781</td>\n      <td>-79.428191</td>\n      <td>Phil White Arena</td>\n      <td>43.691303</td>\n      <td>-79.431761</td>\n      <td>Hockey Arena</td>\n    </tr>\n    <tr>\n      <th>4</th>\n      <td>Caledonia-Fairbanks</td>\n      <td>43.689026</td>\n      <td>-79.453512</td>\n      <td>Nairn Park</td>\n      <td>43.690654</td>\n      <td>-79.456300</td>\n      <td>Park</td>\n    </tr>\n  </tbody>\n</table>\n</div>",
                        "text/plain": "          Neighborhood  Neighborhood Latitude  Neighborhood Longitude  \\\n0   Humewood-Cedarvale              43.693781              -79.428191   \n1   Humewood-Cedarvale              43.693781              -79.428191   \n2   Humewood-Cedarvale              43.693781              -79.428191   \n3   Humewood-Cedarvale              43.693781              -79.428191   \n4  Caledonia-Fairbanks              43.689026              -79.453512   \n\n                Venue  Venue Latitude  Venue Longitude Venue Category  \n0      Cedarvale Park       43.692535       -79.428705          Field  \n1    Cedarvale Ravine       43.690188       -79.426106          Trail  \n2  Cedarvale Dog Park       43.692036       -79.429491        Dog Run  \n3    Phil White Arena       43.691303       -79.431761   Hockey Arena  \n4          Nairn Park       43.690654       -79.456300           Park  "
                    },
                    "execution_count": 113,
                    "metadata": {},
                    "output_type": "execute_result"
                }
            ],
            "source": "york_venues.head()"
        },
        {
            "cell_type": "code",
            "execution_count": 114,
            "metadata": {},
            "outputs": [
                {
                    "data": {
                        "text/html": "<div>\n<style scoped>\n    .dataframe tbody tr th:only-of-type {\n        vertical-align: middle;\n    }\n\n    .dataframe tbody tr th {\n        vertical-align: top;\n    }\n\n    .dataframe thead th {\n        text-align: right;\n    }\n</style>\n<table border=\"1\" class=\"dataframe\">\n  <thead>\n    <tr style=\"text-align: right;\">\n      <th></th>\n      <th>Neighborhood Latitude</th>\n      <th>Neighborhood Longitude</th>\n      <th>Venue</th>\n      <th>Venue Latitude</th>\n      <th>Venue Longitude</th>\n      <th>Venue Category</th>\n    </tr>\n    <tr>\n      <th>Neighborhood</th>\n      <th></th>\n      <th></th>\n      <th></th>\n      <th></th>\n      <th></th>\n      <th></th>\n    </tr>\n  </thead>\n  <tbody>\n    <tr>\n      <th>Caledonia-Fairbanks</th>\n      <td>4</td>\n      <td>4</td>\n      <td>4</td>\n      <td>4</td>\n      <td>4</td>\n      <td>4</td>\n    </tr>\n    <tr>\n      <th>Del Ray / Mount Dennis / Keelsdale and Silverthorn</th>\n      <td>4</td>\n      <td>4</td>\n      <td>4</td>\n      <td>4</td>\n      <td>4</td>\n      <td>4</td>\n    </tr>\n    <tr>\n      <th>Humewood-Cedarvale</th>\n      <td>4</td>\n      <td>4</td>\n      <td>4</td>\n      <td>4</td>\n      <td>4</td>\n      <td>4</td>\n    </tr>\n    <tr>\n      <th>Runnymede / The Junction North</th>\n      <td>4</td>\n      <td>4</td>\n      <td>4</td>\n      <td>4</td>\n      <td>4</td>\n      <td>4</td>\n    </tr>\n    <tr>\n      <th>Weston</th>\n      <td>1</td>\n      <td>1</td>\n      <td>1</td>\n      <td>1</td>\n      <td>1</td>\n      <td>1</td>\n    </tr>\n  </tbody>\n</table>\n</div>",
                        "text/plain": "                                                    Neighborhood Latitude  \\\nNeighborhood                                                                \nCaledonia-Fairbanks                                                     4   \nDel Ray / Mount Dennis / Keelsdale and Silverthorn                      4   \nHumewood-Cedarvale                                                      4   \nRunnymede / The Junction North                                          4   \nWeston                                                                  1   \n\n                                                    Neighborhood Longitude  \\\nNeighborhood                                                                 \nCaledonia-Fairbanks                                                      4   \nDel Ray / Mount Dennis / Keelsdale and Silverthorn                       4   \nHumewood-Cedarvale                                                       4   \nRunnymede / The Junction North                                           4   \nWeston                                                                   1   \n\n                                                    Venue  Venue Latitude  \\\nNeighborhood                                                                \nCaledonia-Fairbanks                                     4               4   \nDel Ray / Mount Dennis / Keelsdale and Silverthorn      4               4   \nHumewood-Cedarvale                                      4               4   \nRunnymede / The Junction North                          4               4   \nWeston                                                  1               1   \n\n                                                    Venue Longitude  \\\nNeighborhood                                                          \nCaledonia-Fairbanks                                               4   \nDel Ray / Mount Dennis / Keelsdale and Silverthorn                4   \nHumewood-Cedarvale                                                4   \nRunnymede / The Junction North                                    4   \nWeston                                                            1   \n\n                                                    Venue Category  \nNeighborhood                                                        \nCaledonia-Fairbanks                                              4  \nDel Ray / Mount Dennis / Keelsdale and Silverthorn               4  \nHumewood-Cedarvale                                               4  \nRunnymede / The Junction North                                   4  \nWeston                                                           1  "
                    },
                    "execution_count": 114,
                    "metadata": {},
                    "output_type": "execute_result"
                }
            ],
            "source": "york_venues.groupby('Neighborhood').count()"
        },
        {
            "cell_type": "code",
            "execution_count": 115,
            "metadata": {},
            "outputs": [
                {
                    "name": "stdout",
                    "output_type": "stream",
                    "text": "There are 15 uniques categories.\n"
                }
            ],
            "source": "print('There are {} uniques categories.'.format(len(york_venues['Venue Category'].unique())))"
        },
        {
            "cell_type": "code",
            "execution_count": 116,
            "metadata": {},
            "outputs": [
                {
                    "data": {
                        "text/html": "<div>\n<style scoped>\n    .dataframe tbody tr th:only-of-type {\n        vertical-align: middle;\n    }\n\n    .dataframe tbody tr th {\n        vertical-align: top;\n    }\n\n    .dataframe thead th {\n        text-align: right;\n    }\n</style>\n<table border=\"1\" class=\"dataframe\">\n  <thead>\n    <tr style=\"text-align: right;\">\n      <th></th>\n      <th>Neighborhood</th>\n      <th>Brewery</th>\n      <th>Bus Line</th>\n      <th>Coffee Shop</th>\n      <th>Discount Store</th>\n      <th>Dog Run</th>\n      <th>Field</th>\n      <th>Grocery Store</th>\n      <th>Hockey Arena</th>\n      <th>Market</th>\n      <th>Park</th>\n      <th>Pizza Place</th>\n      <th>Restaurant</th>\n      <th>Sandwich Place</th>\n      <th>Trail</th>\n      <th>Women's Store</th>\n    </tr>\n  </thead>\n  <tbody>\n    <tr>\n      <th>0</th>\n      <td>Humewood-Cedarvale</td>\n      <td>0</td>\n      <td>0</td>\n      <td>0</td>\n      <td>0</td>\n      <td>0</td>\n      <td>1</td>\n      <td>0</td>\n      <td>0</td>\n      <td>0</td>\n      <td>0</td>\n      <td>0</td>\n      <td>0</td>\n      <td>0</td>\n      <td>0</td>\n      <td>0</td>\n    </tr>\n    <tr>\n      <th>1</th>\n      <td>Humewood-Cedarvale</td>\n      <td>0</td>\n      <td>0</td>\n      <td>0</td>\n      <td>0</td>\n      <td>0</td>\n      <td>0</td>\n      <td>0</td>\n      <td>0</td>\n      <td>0</td>\n      <td>0</td>\n      <td>0</td>\n      <td>0</td>\n      <td>0</td>\n      <td>1</td>\n      <td>0</td>\n    </tr>\n    <tr>\n      <th>2</th>\n      <td>Humewood-Cedarvale</td>\n      <td>0</td>\n      <td>0</td>\n      <td>0</td>\n      <td>0</td>\n      <td>1</td>\n      <td>0</td>\n      <td>0</td>\n      <td>0</td>\n      <td>0</td>\n      <td>0</td>\n      <td>0</td>\n      <td>0</td>\n      <td>0</td>\n      <td>0</td>\n      <td>0</td>\n    </tr>\n    <tr>\n      <th>3</th>\n      <td>Humewood-Cedarvale</td>\n      <td>0</td>\n      <td>0</td>\n      <td>0</td>\n      <td>0</td>\n      <td>0</td>\n      <td>0</td>\n      <td>0</td>\n      <td>1</td>\n      <td>0</td>\n      <td>0</td>\n      <td>0</td>\n      <td>0</td>\n      <td>0</td>\n      <td>0</td>\n      <td>0</td>\n    </tr>\n    <tr>\n      <th>4</th>\n      <td>Caledonia-Fairbanks</td>\n      <td>0</td>\n      <td>0</td>\n      <td>0</td>\n      <td>0</td>\n      <td>0</td>\n      <td>0</td>\n      <td>0</td>\n      <td>0</td>\n      <td>0</td>\n      <td>1</td>\n      <td>0</td>\n      <td>0</td>\n      <td>0</td>\n      <td>0</td>\n      <td>0</td>\n    </tr>\n  </tbody>\n</table>\n</div>",
                        "text/plain": "          Neighborhood  Brewery  Bus Line  Coffee Shop  Discount Store  \\\n0   Humewood-Cedarvale        0         0            0               0   \n1   Humewood-Cedarvale        0         0            0               0   \n2   Humewood-Cedarvale        0         0            0               0   \n3   Humewood-Cedarvale        0         0            0               0   \n4  Caledonia-Fairbanks        0         0            0               0   \n\n   Dog Run  Field  Grocery Store  Hockey Arena  Market  Park  Pizza Place  \\\n0        0      1              0             0       0     0            0   \n1        0      0              0             0       0     0            0   \n2        1      0              0             0       0     0            0   \n3        0      0              0             1       0     0            0   \n4        0      0              0             0       0     1            0   \n\n   Restaurant  Sandwich Place  Trail  Women's Store  \n0           0               0      0              0  \n1           0               0      1              0  \n2           0               0      0              0  \n3           0               0      0              0  \n4           0               0      0              0  "
                    },
                    "execution_count": 116,
                    "metadata": {},
                    "output_type": "execute_result"
                }
            ],
            "source": "york_onehot = pd.get_dummies(york_venues[['Venue Category']], prefix=\"\", prefix_sep=\"\")\n\n# add neighborhood column back to dataframe\nyork_onehot['Neighborhood'] = york_venues['Neighborhood'] \n\n# move neighborhood column to the first column\nyork_fixed_columns = [york_onehot.columns[-1]] + list(york_onehot.columns[:-1])\nyork_onehot = york_onehot[york_fixed_columns]\n\nyork_onehot.head()"
        },
        {
            "cell_type": "code",
            "execution_count": 117,
            "metadata": {},
            "outputs": [
                {
                    "name": "stdout",
                    "output_type": "stream",
                    "text": "<class 'pandas.core.frame.DataFrame'>\nRangeIndex: 17 entries, 0 to 16\nData columns (total 16 columns):\nNeighborhood      17 non-null object\nBrewery           17 non-null uint8\nBus Line          17 non-null uint8\nCoffee Shop       17 non-null uint8\nDiscount Store    17 non-null uint8\nDog Run           17 non-null uint8\nField             17 non-null uint8\nGrocery Store     17 non-null uint8\nHockey Arena      17 non-null uint8\nMarket            17 non-null uint8\nPark              17 non-null uint8\nPizza Place       17 non-null uint8\nRestaurant        17 non-null uint8\nSandwich Place    17 non-null uint8\nTrail             17 non-null uint8\nWomen's Store     17 non-null uint8\ndtypes: object(1), uint8(15)\nmemory usage: 471.0+ bytes\n"
                }
            ],
            "source": "york_onehot.info()"
        },
        {
            "cell_type": "code",
            "execution_count": 119,
            "metadata": {},
            "outputs": [
                {
                    "data": {
                        "text/html": "<div>\n<style scoped>\n    .dataframe tbody tr th:only-of-type {\n        vertical-align: middle;\n    }\n\n    .dataframe tbody tr th {\n        vertical-align: top;\n    }\n\n    .dataframe thead th {\n        text-align: right;\n    }\n</style>\n<table border=\"1\" class=\"dataframe\">\n  <thead>\n    <tr style=\"text-align: right;\">\n      <th></th>\n      <th>Neighborhood</th>\n      <th>Brewery</th>\n      <th>Bus Line</th>\n      <th>Coffee Shop</th>\n      <th>Discount Store</th>\n      <th>Dog Run</th>\n      <th>Field</th>\n      <th>Grocery Store</th>\n      <th>Hockey Arena</th>\n      <th>Market</th>\n      <th>Park</th>\n      <th>Pizza Place</th>\n      <th>Restaurant</th>\n      <th>Sandwich Place</th>\n      <th>Trail</th>\n      <th>Women's Store</th>\n    </tr>\n  </thead>\n  <tbody>\n    <tr>\n      <th>0</th>\n      <td>Caledonia-Fairbanks</td>\n      <td>0.00</td>\n      <td>0.00</td>\n      <td>0.00</td>\n      <td>0.00</td>\n      <td>0.00</td>\n      <td>0.00</td>\n      <td>0.00</td>\n      <td>0.00</td>\n      <td>0.25</td>\n      <td>0.5</td>\n      <td>0.00</td>\n      <td>0.00</td>\n      <td>0.00</td>\n      <td>0.00</td>\n      <td>0.25</td>\n    </tr>\n    <tr>\n      <th>1</th>\n      <td>Del Ray / Mount Dennis / Keelsdale and Silvert...</td>\n      <td>0.00</td>\n      <td>0.00</td>\n      <td>0.25</td>\n      <td>0.25</td>\n      <td>0.00</td>\n      <td>0.00</td>\n      <td>0.00</td>\n      <td>0.00</td>\n      <td>0.00</td>\n      <td>0.0</td>\n      <td>0.00</td>\n      <td>0.25</td>\n      <td>0.25</td>\n      <td>0.00</td>\n      <td>0.00</td>\n    </tr>\n    <tr>\n      <th>2</th>\n      <td>Humewood-Cedarvale</td>\n      <td>0.00</td>\n      <td>0.00</td>\n      <td>0.00</td>\n      <td>0.00</td>\n      <td>0.25</td>\n      <td>0.25</td>\n      <td>0.00</td>\n      <td>0.25</td>\n      <td>0.00</td>\n      <td>0.0</td>\n      <td>0.00</td>\n      <td>0.00</td>\n      <td>0.00</td>\n      <td>0.25</td>\n      <td>0.00</td>\n    </tr>\n    <tr>\n      <th>3</th>\n      <td>Runnymede / The Junction North</td>\n      <td>0.25</td>\n      <td>0.25</td>\n      <td>0.00</td>\n      <td>0.00</td>\n      <td>0.00</td>\n      <td>0.00</td>\n      <td>0.25</td>\n      <td>0.00</td>\n      <td>0.00</td>\n      <td>0.0</td>\n      <td>0.25</td>\n      <td>0.00</td>\n      <td>0.00</td>\n      <td>0.00</td>\n      <td>0.00</td>\n    </tr>\n    <tr>\n      <th>4</th>\n      <td>Weston</td>\n      <td>0.00</td>\n      <td>0.00</td>\n      <td>0.00</td>\n      <td>0.00</td>\n      <td>0.00</td>\n      <td>0.00</td>\n      <td>0.00</td>\n      <td>0.00</td>\n      <td>0.00</td>\n      <td>1.0</td>\n      <td>0.00</td>\n      <td>0.00</td>\n      <td>0.00</td>\n      <td>0.00</td>\n      <td>0.00</td>\n    </tr>\n  </tbody>\n</table>\n</div>",
                        "text/plain": "                                        Neighborhood  Brewery  Bus Line  \\\n0                                Caledonia-Fairbanks     0.00      0.00   \n1  Del Ray / Mount Dennis / Keelsdale and Silvert...     0.00      0.00   \n2                                 Humewood-Cedarvale     0.00      0.00   \n3                     Runnymede / The Junction North     0.25      0.25   \n4                                             Weston     0.00      0.00   \n\n   Coffee Shop  Discount Store  Dog Run  Field  Grocery Store  Hockey Arena  \\\n0         0.00            0.00     0.00   0.00           0.00          0.00   \n1         0.25            0.25     0.00   0.00           0.00          0.00   \n2         0.00            0.00     0.25   0.25           0.00          0.25   \n3         0.00            0.00     0.00   0.00           0.25          0.00   \n4         0.00            0.00     0.00   0.00           0.00          0.00   \n\n   Market  Park  Pizza Place  Restaurant  Sandwich Place  Trail  Women's Store  \n0    0.25   0.5         0.00        0.00            0.00   0.00           0.25  \n1    0.00   0.0         0.00        0.25            0.25   0.00           0.00  \n2    0.00   0.0         0.00        0.00            0.00   0.25           0.00  \n3    0.00   0.0         0.25        0.00            0.00   0.00           0.00  \n4    0.00   1.0         0.00        0.00            0.00   0.00           0.00  "
                    },
                    "execution_count": 119,
                    "metadata": {},
                    "output_type": "execute_result"
                }
            ],
            "source": "york_grouped = york_onehot.groupby('Neighborhood').mean().reset_index()\nyork_grouped.head()"
        },
        {
            "cell_type": "code",
            "execution_count": 120,
            "metadata": {},
            "outputs": [
                {
                    "name": "stdout",
                    "output_type": "stream",
                    "text": "<class 'pandas.core.frame.DataFrame'>\nRangeIndex: 5 entries, 0 to 4\nData columns (total 16 columns):\nNeighborhood      5 non-null object\nBrewery           5 non-null float64\nBus Line          5 non-null float64\nCoffee Shop       5 non-null float64\nDiscount Store    5 non-null float64\nDog Run           5 non-null float64\nField             5 non-null float64\nGrocery Store     5 non-null float64\nHockey Arena      5 non-null float64\nMarket            5 non-null float64\nPark              5 non-null float64\nPizza Place       5 non-null float64\nRestaurant        5 non-null float64\nSandwich Place    5 non-null float64\nTrail             5 non-null float64\nWomen's Store     5 non-null float64\ndtypes: float64(15), object(1)\nmemory usage: 720.0+ bytes\n"
                }
            ],
            "source": "york_grouped.info()"
        },
        {
            "cell_type": "code",
            "execution_count": 121,
            "metadata": {},
            "outputs": [
                {
                    "name": "stdout",
                    "output_type": "stream",
                    "text": "----Caledonia-Fairbanks----\n           venue  freq\n0           Park  0.50\n1         Market  0.25\n2  Women's Store  0.25\n\n\n----Del Ray / Mount Dennis / Keelsdale and Silverthorn----\n            venue  freq\n0     Coffee Shop  0.25\n1  Discount Store  0.25\n2      Restaurant  0.25\n\n\n----Humewood-Cedarvale----\n          venue  freq\n0       Dog Run  0.25\n1         Field  0.25\n2  Hockey Arena  0.25\n\n\n----Runnymede / The Junction North----\n           venue  freq\n0        Brewery  0.25\n1       Bus Line  0.25\n2  Grocery Store  0.25\n\n\n----Weston----\n      venue  freq\n0      Park   1.0\n1   Brewery   0.0\n2  Bus Line   0.0\n\n\n"
                }
            ],
            "source": "num_top_venues = 3\n\nfor hood in york_grouped['Neighborhood']:\n    print(\"----\"+hood+\"----\")\n    york_temp = york_grouped[york_grouped['Neighborhood'] == hood].T.reset_index()\n    york_temp.columns = ['venue','freq']\n    york_temp = york_temp.iloc[1:]\n    york_temp['freq'] = york_temp['freq'].astype(float)\n    york_temp = york_temp.round({'freq': 2})\n    print(york_temp.sort_values('freq', ascending=False).reset_index(drop=True).head(num_top_venues))\n    print('\\n')"
        },
        {
            "cell_type": "code",
            "execution_count": 122,
            "metadata": {},
            "outputs": [],
            "source": "def return_most_common_venues(row, num_top_venues):\n    row_categories = row.iloc[1:]\n    row_categories_sorted = row_categories.sort_values(ascending=False)\n    \n    return row_categories_sorted.index.values[0:num_top_venues]"
        },
        {
            "cell_type": "code",
            "execution_count": 123,
            "metadata": {},
            "outputs": [
                {
                    "data": {
                        "text/html": "<div>\n<style scoped>\n    .dataframe tbody tr th:only-of-type {\n        vertical-align: middle;\n    }\n\n    .dataframe tbody tr th {\n        vertical-align: top;\n    }\n\n    .dataframe thead th {\n        text-align: right;\n    }\n</style>\n<table border=\"1\" class=\"dataframe\">\n  <thead>\n    <tr style=\"text-align: right;\">\n      <th></th>\n      <th>Neighborhood</th>\n      <th>1st Most Common Venue</th>\n      <th>2nd Most Common Venue</th>\n      <th>3rd Most Common Venue</th>\n      <th>4th Most Common Venue</th>\n      <th>5th Most Common Venue</th>\n      <th>6th Most Common Venue</th>\n      <th>7th Most Common Venue</th>\n      <th>8th Most Common Venue</th>\n      <th>9th Most Common Venue</th>\n      <th>10th Most Common Venue</th>\n      <th>11th Most Common Venue</th>\n      <th>12th Most Common Venue</th>\n      <th>13th Most Common Venue</th>\n      <th>14th Most Common Venue</th>\n      <th>15th Most Common Venue</th>\n      <th>16th Most Common Venue</th>\n      <th>17th Most Common Venue</th>\n    </tr>\n  </thead>\n  <tbody>\n  </tbody>\n</table>\n</div>",
                        "text/plain": "Empty DataFrame\nColumns: [Neighborhood, 1st Most Common Venue, 2nd Most Common Venue, 3rd Most Common Venue, 4th Most Common Venue, 5th Most Common Venue, 6th Most Common Venue, 7th Most Common Venue, 8th Most Common Venue, 9th Most Common Venue, 10th Most Common Venue, 11th Most Common Venue, 12th Most Common Venue, 13th Most Common Venue, 14th Most Common Venue, 15th Most Common Venue, 16th Most Common Venue, 17th Most Common Venue]\nIndex: []"
                    },
                    "execution_count": 123,
                    "metadata": {},
                    "output_type": "execute_result"
                }
            ],
            "source": "num_top_venues = 17\n\nindicators = ['st', 'nd', 'rd']\n\n# create columns according to number of top venues\ncolumns = ['Neighborhood']\nfor ind in np.arange(num_top_venues):\n    try:\n        columns.append('{}{} Most Common Venue'.format(ind+1, indicators[ind]))\n    except:\n        columns.append('{}th Most Common Venue'.format(ind+1))\n\n# create a new dataframe\nyork_neighborhoods_venues_sorted = pd.DataFrame(columns=columns)\n\nyork_neighborhoods_venues_sorted"
        },
        {
            "cell_type": "code",
            "execution_count": 124,
            "metadata": {},
            "outputs": [
                {
                    "data": {
                        "text/html": "<div>\n<style scoped>\n    .dataframe tbody tr th:only-of-type {\n        vertical-align: middle;\n    }\n\n    .dataframe tbody tr th {\n        vertical-align: top;\n    }\n\n    .dataframe thead th {\n        text-align: right;\n    }\n</style>\n<table border=\"1\" class=\"dataframe\">\n  <thead>\n    <tr style=\"text-align: right;\">\n      <th></th>\n      <th>Neighborhood</th>\n      <th>1st Most Common Venue</th>\n      <th>2nd Most Common Venue</th>\n      <th>3rd Most Common Venue</th>\n      <th>4th Most Common Venue</th>\n      <th>5th Most Common Venue</th>\n      <th>6th Most Common Venue</th>\n      <th>7th Most Common Venue</th>\n      <th>8th Most Common Venue</th>\n      <th>9th Most Common Venue</th>\n      <th>10th Most Common Venue</th>\n      <th>11th Most Common Venue</th>\n      <th>12th Most Common Venue</th>\n      <th>13th Most Common Venue</th>\n      <th>14th Most Common Venue</th>\n      <th>15th Most Common Venue</th>\n      <th>16th Most Common Venue</th>\n      <th>17th Most Common Venue</th>\n    </tr>\n  </thead>\n  <tbody>\n    <tr>\n      <th>0</th>\n      <td>Caledonia-Fairbanks</td>\n      <td>NaN</td>\n      <td>NaN</td>\n      <td>NaN</td>\n      <td>NaN</td>\n      <td>NaN</td>\n      <td>NaN</td>\n      <td>NaN</td>\n      <td>NaN</td>\n      <td>NaN</td>\n      <td>NaN</td>\n      <td>NaN</td>\n      <td>NaN</td>\n      <td>NaN</td>\n      <td>NaN</td>\n      <td>NaN</td>\n      <td>NaN</td>\n      <td>NaN</td>\n    </tr>\n    <tr>\n      <th>1</th>\n      <td>Del Ray / Mount Dennis / Keelsdale and Silvert...</td>\n      <td>NaN</td>\n      <td>NaN</td>\n      <td>NaN</td>\n      <td>NaN</td>\n      <td>NaN</td>\n      <td>NaN</td>\n      <td>NaN</td>\n      <td>NaN</td>\n      <td>NaN</td>\n      <td>NaN</td>\n      <td>NaN</td>\n      <td>NaN</td>\n      <td>NaN</td>\n      <td>NaN</td>\n      <td>NaN</td>\n      <td>NaN</td>\n      <td>NaN</td>\n    </tr>\n  </tbody>\n</table>\n</div>",
                        "text/plain": "                                        Neighborhood 1st Most Common Venue  \\\n0                                Caledonia-Fairbanks                   NaN   \n1  Del Ray / Mount Dennis / Keelsdale and Silvert...                   NaN   \n\n  2nd Most Common Venue 3rd Most Common Venue 4th Most Common Venue  \\\n0                   NaN                   NaN                   NaN   \n1                   NaN                   NaN                   NaN   \n\n  5th Most Common Venue 6th Most Common Venue 7th Most Common Venue  \\\n0                   NaN                   NaN                   NaN   \n1                   NaN                   NaN                   NaN   \n\n  8th Most Common Venue 9th Most Common Venue 10th Most Common Venue  \\\n0                   NaN                   NaN                    NaN   \n1                   NaN                   NaN                    NaN   \n\n  11th Most Common Venue 12th Most Common Venue 13th Most Common Venue  \\\n0                    NaN                    NaN                    NaN   \n1                    NaN                    NaN                    NaN   \n\n  14th Most Common Venue 15th Most Common Venue 16th Most Common Venue  \\\n0                    NaN                    NaN                    NaN   \n1                    NaN                    NaN                    NaN   \n\n  17th Most Common Venue  \n0                    NaN  \n1                    NaN  "
                    },
                    "execution_count": 124,
                    "metadata": {},
                    "output_type": "execute_result"
                }
            ],
            "source": "york_neighborhoods_venues_sorted['Neighborhood'] = york_grouped['Neighborhood']\n\nyork_neighborhoods_venues_sorted.head(2)"
        },
        {
            "cell_type": "code",
            "execution_count": 133,
            "metadata": {},
            "outputs": [
                {
                    "data": {
                        "text/html": "<div>\n<style scoped>\n    .dataframe tbody tr th:only-of-type {\n        vertical-align: middle;\n    }\n\n    .dataframe tbody tr th {\n        vertical-align: top;\n    }\n\n    .dataframe thead th {\n        text-align: right;\n    }\n</style>\n<table border=\"1\" class=\"dataframe\">\n  <thead>\n    <tr style=\"text-align: right;\">\n      <th></th>\n      <th>Neighborhood</th>\n      <th>1st Most Common Venue</th>\n      <th>2nd Most Common Venue</th>\n      <th>3rd Most Common Venue</th>\n      <th>4th Most Common Venue</th>\n      <th>5th Most Common Venue</th>\n      <th>6th Most Common Venue</th>\n      <th>7th Most Common Venue</th>\n      <th>8th Most Common Venue</th>\n      <th>9th Most Common Venue</th>\n      <th>10th Most Common Venue</th>\n      <th>11th Most Common Venue</th>\n      <th>12th Most Common Venue</th>\n      <th>13th Most Common Venue</th>\n      <th>14th Most Common Venue</th>\n      <th>15th Most Common Venue</th>\n      <th>16th Most Common Venue</th>\n      <th>17th Most Common Venue</th>\n    </tr>\n  </thead>\n  <tbody>\n    <tr>\n      <th>0</th>\n      <td>Caledonia-Fairbanks</td>\n      <td>Women's Store</td>\n      <td>Women's Store</td>\n      <td>Women's Store</td>\n      <td>Women's Store</td>\n      <td>Women's Store</td>\n      <td>Women's Store</td>\n      <td>Women's Store</td>\n      <td>Women's Store</td>\n      <td>Women's Store</td>\n      <td>Women's Store</td>\n      <td>Women's Store</td>\n      <td>Women's Store</td>\n      <td>Women's Store</td>\n      <td>Women's Store</td>\n      <td>Women's Store</td>\n      <td>Women's Store</td>\n      <td>Women's Store</td>\n    </tr>\n    <tr>\n      <th>1</th>\n      <td>Del Ray / Mount Dennis / Keelsdale and Silvert...</td>\n      <td>Women's Store</td>\n      <td>Women's Store</td>\n      <td>Women's Store</td>\n      <td>Women's Store</td>\n      <td>Women's Store</td>\n      <td>Women's Store</td>\n      <td>Women's Store</td>\n      <td>Women's Store</td>\n      <td>Women's Store</td>\n      <td>Women's Store</td>\n      <td>Women's Store</td>\n      <td>Women's Store</td>\n      <td>Women's Store</td>\n      <td>Women's Store</td>\n      <td>Women's Store</td>\n      <td>Women's Store</td>\n      <td>Women's Store</td>\n    </tr>\n  </tbody>\n</table>\n</div>",
                        "text/plain": "                                        Neighborhood 1st Most Common Venue  \\\n0                                Caledonia-Fairbanks         Women's Store   \n1  Del Ray / Mount Dennis / Keelsdale and Silvert...         Women's Store   \n\n  2nd Most Common Venue 3rd Most Common Venue 4th Most Common Venue  \\\n0         Women's Store         Women's Store         Women's Store   \n1         Women's Store         Women's Store         Women's Store   \n\n  5th Most Common Venue 6th Most Common Venue 7th Most Common Venue  \\\n0         Women's Store         Women's Store         Women's Store   \n1         Women's Store         Women's Store         Women's Store   \n\n  8th Most Common Venue 9th Most Common Venue 10th Most Common Venue  \\\n0         Women's Store         Women's Store          Women's Store   \n1         Women's Store         Women's Store          Women's Store   \n\n  11th Most Common Venue 12th Most Common Venue 13th Most Common Venue  \\\n0          Women's Store          Women's Store          Women's Store   \n1          Women's Store          Women's Store          Women's Store   \n\n  14th Most Common Venue 15th Most Common Venue 16th Most Common Venue  \\\n0          Women's Store          Women's Store          Women's Store   \n1          Women's Store          Women's Store          Women's Store   \n\n  17th Most Common Venue  \n0          Women's Store  \n1          Women's Store  "
                    },
                    "execution_count": 133,
                    "metadata": {},
                    "output_type": "execute_result"
                }
            ],
            "source": "for ind in np.arange(york_grouped.shape[0]):\n    york_neighborhoods_venues_sorted.iloc[ind, 1:] = return_most_common_venues(york_grouped.iloc[ind, -2:], num_top_venues)\n\nyork_neighborhoods_venues_sorted.head(2)"
        },
        {
            "cell_type": "code",
            "execution_count": 135,
            "metadata": {},
            "outputs": [
                {
                    "data": {
                        "text/plain": "array([0, 1, 1, 1, 0], dtype=int32)"
                    },
                    "execution_count": 135,
                    "metadata": {},
                    "output_type": "execute_result"
                }
            ],
            "source": "# set number of clusters\nkclusters = 2\n\nyork_grouped_clustering = york_grouped.drop('Neighborhood', 1)\n\n# run k-means clustering\nyork_kmeans = KMeans(n_clusters=kclusters, random_state=0).fit(york_grouped_clustering)\n\n# check cluster labels generated for each row in the dataframe\nyork_kmeans.labels_[0:5]"
        },
        {
            "cell_type": "code",
            "execution_count": 137,
            "metadata": {},
            "outputs": [
                {
                    "data": {
                        "text/html": "<div>\n<style scoped>\n    .dataframe tbody tr th:only-of-type {\n        vertical-align: middle;\n    }\n\n    .dataframe tbody tr th {\n        vertical-align: top;\n    }\n\n    .dataframe thead th {\n        text-align: right;\n    }\n</style>\n<table border=\"1\" class=\"dataframe\">\n  <thead>\n    <tr style=\"text-align: right;\">\n      <th></th>\n      <th>Postal code</th>\n      <th>Borough</th>\n      <th>Neighborhood</th>\n      <th>Latitude</th>\n      <th>Longitude</th>\n      <th>Cluster Labels</th>\n      <th>1st Most Common Venue</th>\n      <th>2nd Most Common Venue</th>\n      <th>3rd Most Common Venue</th>\n      <th>4th Most Common Venue</th>\n      <th>5th Most Common Venue</th>\n      <th>6th Most Common Venue</th>\n      <th>7th Most Common Venue</th>\n      <th>8th Most Common Venue</th>\n      <th>9th Most Common Venue</th>\n      <th>10th Most Common Venue</th>\n      <th>11th Most Common Venue</th>\n      <th>12th Most Common Venue</th>\n      <th>13th Most Common Venue</th>\n      <th>14th Most Common Venue</th>\n      <th>15th Most Common Venue</th>\n      <th>16th Most Common Venue</th>\n      <th>17th Most Common Venue</th>\n    </tr>\n  </thead>\n  <tbody>\n    <tr>\n      <th>0</th>\n      <td>M6C</td>\n      <td>York</td>\n      <td>Humewood-Cedarvale</td>\n      <td>43.693781</td>\n      <td>-79.428191</td>\n      <td>1</td>\n      <td>Women's Store</td>\n      <td>Women's Store</td>\n      <td>Women's Store</td>\n      <td>Women's Store</td>\n      <td>Women's Store</td>\n      <td>Women's Store</td>\n      <td>Women's Store</td>\n      <td>Women's Store</td>\n      <td>Women's Store</td>\n      <td>Women's Store</td>\n      <td>Women's Store</td>\n      <td>Women's Store</td>\n      <td>Women's Store</td>\n      <td>Women's Store</td>\n      <td>Women's Store</td>\n      <td>Women's Store</td>\n      <td>Women's Store</td>\n    </tr>\n    <tr>\n      <th>1</th>\n      <td>M6E</td>\n      <td>York</td>\n      <td>Caledonia-Fairbanks</td>\n      <td>43.689026</td>\n      <td>-79.453512</td>\n      <td>0</td>\n      <td>Women's Store</td>\n      <td>Women's Store</td>\n      <td>Women's Store</td>\n      <td>Women's Store</td>\n      <td>Women's Store</td>\n      <td>Women's Store</td>\n      <td>Women's Store</td>\n      <td>Women's Store</td>\n      <td>Women's Store</td>\n      <td>Women's Store</td>\n      <td>Women's Store</td>\n      <td>Women's Store</td>\n      <td>Women's Store</td>\n      <td>Women's Store</td>\n      <td>Women's Store</td>\n      <td>Women's Store</td>\n      <td>Women's Store</td>\n    </tr>\n    <tr>\n      <th>2</th>\n      <td>M6M</td>\n      <td>York</td>\n      <td>Del Ray / Mount Dennis / Keelsdale and Silvert...</td>\n      <td>43.691116</td>\n      <td>-79.476013</td>\n      <td>1</td>\n      <td>Women's Store</td>\n      <td>Women's Store</td>\n      <td>Women's Store</td>\n      <td>Women's Store</td>\n      <td>Women's Store</td>\n      <td>Women's Store</td>\n      <td>Women's Store</td>\n      <td>Women's Store</td>\n      <td>Women's Store</td>\n      <td>Women's Store</td>\n      <td>Women's Store</td>\n      <td>Women's Store</td>\n      <td>Women's Store</td>\n      <td>Women's Store</td>\n      <td>Women's Store</td>\n      <td>Women's Store</td>\n      <td>Women's Store</td>\n    </tr>\n    <tr>\n      <th>3</th>\n      <td>M6N</td>\n      <td>York</td>\n      <td>Runnymede / The Junction North</td>\n      <td>43.673185</td>\n      <td>-79.487262</td>\n      <td>1</td>\n      <td>Women's Store</td>\n      <td>Women's Store</td>\n      <td>Women's Store</td>\n      <td>Women's Store</td>\n      <td>Women's Store</td>\n      <td>Women's Store</td>\n      <td>Women's Store</td>\n      <td>Women's Store</td>\n      <td>Women's Store</td>\n      <td>Women's Store</td>\n      <td>Women's Store</td>\n      <td>Women's Store</td>\n      <td>Women's Store</td>\n      <td>Women's Store</td>\n      <td>Women's Store</td>\n      <td>Women's Store</td>\n      <td>Women's Store</td>\n    </tr>\n    <tr>\n      <th>4</th>\n      <td>M9N</td>\n      <td>York</td>\n      <td>Weston</td>\n      <td>43.706876</td>\n      <td>-79.518188</td>\n      <td>0</td>\n      <td>Women's Store</td>\n      <td>Women's Store</td>\n      <td>Women's Store</td>\n      <td>Women's Store</td>\n      <td>Women's Store</td>\n      <td>Women's Store</td>\n      <td>Women's Store</td>\n      <td>Women's Store</td>\n      <td>Women's Store</td>\n      <td>Women's Store</td>\n      <td>Women's Store</td>\n      <td>Women's Store</td>\n      <td>Women's Store</td>\n      <td>Women's Store</td>\n      <td>Women's Store</td>\n      <td>Women's Store</td>\n      <td>Women's Store</td>\n    </tr>\n  </tbody>\n</table>\n</div>",
                        "text/plain": "  Postal code Borough                                       Neighborhood  \\\n0         M6C    York                                 Humewood-Cedarvale   \n1         M6E    York                                Caledonia-Fairbanks   \n2         M6M    York  Del Ray / Mount Dennis / Keelsdale and Silvert...   \n3         M6N    York                     Runnymede / The Junction North   \n4         M9N    York                                             Weston   \n\n    Latitude  Longitude  Cluster Labels 1st Most Common Venue  \\\n0  43.693781 -79.428191               1         Women's Store   \n1  43.689026 -79.453512               0         Women's Store   \n2  43.691116 -79.476013               1         Women's Store   \n3  43.673185 -79.487262               1         Women's Store   \n4  43.706876 -79.518188               0         Women's Store   \n\n  2nd Most Common Venue 3rd Most Common Venue 4th Most Common Venue  \\\n0         Women's Store         Women's Store         Women's Store   \n1         Women's Store         Women's Store         Women's Store   \n2         Women's Store         Women's Store         Women's Store   \n3         Women's Store         Women's Store         Women's Store   \n4         Women's Store         Women's Store         Women's Store   \n\n  5th Most Common Venue 6th Most Common Venue 7th Most Common Venue  \\\n0         Women's Store         Women's Store         Women's Store   \n1         Women's Store         Women's Store         Women's Store   \n2         Women's Store         Women's Store         Women's Store   \n3         Women's Store         Women's Store         Women's Store   \n4         Women's Store         Women's Store         Women's Store   \n\n  8th Most Common Venue 9th Most Common Venue 10th Most Common Venue  \\\n0         Women's Store         Women's Store          Women's Store   \n1         Women's Store         Women's Store          Women's Store   \n2         Women's Store         Women's Store          Women's Store   \n3         Women's Store         Women's Store          Women's Store   \n4         Women's Store         Women's Store          Women's Store   \n\n  11th Most Common Venue 12th Most Common Venue 13th Most Common Venue  \\\n0          Women's Store          Women's Store          Women's Store   \n1          Women's Store          Women's Store          Women's Store   \n2          Women's Store          Women's Store          Women's Store   \n3          Women's Store          Women's Store          Women's Store   \n4          Women's Store          Women's Store          Women's Store   \n\n  14th Most Common Venue 15th Most Common Venue 16th Most Common Venue  \\\n0          Women's Store          Women's Store          Women's Store   \n1          Women's Store          Women's Store          Women's Store   \n2          Women's Store          Women's Store          Women's Store   \n3          Women's Store          Women's Store          Women's Store   \n4          Women's Store          Women's Store          Women's Store   \n\n  17th Most Common Venue  \n0          Women's Store  \n1          Women's Store  \n2          Women's Store  \n3          Women's Store  \n4          Women's Store  "
                    },
                    "execution_count": 137,
                    "metadata": {},
                    "output_type": "execute_result"
                }
            ],
            "source": "york_neighborhoods_venues_sorted.insert(0, 'Cluster Labels', york_kmeans.labels_)\n\nyork_merged = york_data\n\n# merge toronto_grouped with toronto_data to add latitude/longitude for each neighborhood\nyork_merged = york_merged.join(york_neighborhoods_venues_sorted.set_index('Neighborhood'), on='Neighborhood')\n\nyork_merged"
        },
        {
            "cell_type": "code",
            "execution_count": 138,
            "metadata": {},
            "outputs": [],
            "source": "# create map\nyork_map_clusters = folium.Map(location=[latitude, longitude], zoom_start=11)\n\n# set color scheme for the clusters\nx = np.arange(kclusters)\nys = [i + x + (i*x)**2 for i in range(kclusters)]\ncolors_array = cm.rainbow(np.linspace(0, 1, len(ys)))\nrainbow = [colors.rgb2hex(i) for i in colors_array]\n\n# add markers to the map\nmarkers_colors = []\nfor lat, lon, poi, cluster in zip(york_merged['Latitude'], york_merged['Longitude'], york_merged['Neighborhood'], york_merged['Cluster Labels']):\n    label = folium.Popup(str(poi) + ' Cluster ' + str(cluster), parse_html=True)\n    folium.CircleMarker(\n        [lat, lon],\n        radius=5,\n        popup=label,\n        color=rainbow[cluster-1],\n        fill=True,\n        fill_color=rainbow[cluster-1],\n        fill_opacity=0.7).add_to(york_map_clusters)\n       \nyork_map_clusters\n\nyork_map_clusters.save(\"york_map_clusters.html\")\n\n#open york_map_clusters.html in browser\n#if you cannot generate the maps open PGA_map_*.html from the zip file"
        },
        {
            "cell_type": "code",
            "execution_count": 139,
            "metadata": {},
            "outputs": [
                {
                    "data": {
                        "text/html": "<div>\n<style scoped>\n    .dataframe tbody tr th:only-of-type {\n        vertical-align: middle;\n    }\n\n    .dataframe tbody tr th {\n        vertical-align: top;\n    }\n\n    .dataframe thead th {\n        text-align: right;\n    }\n</style>\n<table border=\"1\" class=\"dataframe\">\n  <thead>\n    <tr style=\"text-align: right;\">\n      <th></th>\n      <th>Borough</th>\n      <th>Cluster Labels</th>\n      <th>1st Most Common Venue</th>\n      <th>2nd Most Common Venue</th>\n      <th>3rd Most Common Venue</th>\n      <th>4th Most Common Venue</th>\n      <th>5th Most Common Venue</th>\n      <th>6th Most Common Venue</th>\n      <th>7th Most Common Venue</th>\n      <th>8th Most Common Venue</th>\n      <th>9th Most Common Venue</th>\n      <th>10th Most Common Venue</th>\n      <th>11th Most Common Venue</th>\n      <th>12th Most Common Venue</th>\n      <th>13th Most Common Venue</th>\n      <th>14th Most Common Venue</th>\n      <th>15th Most Common Venue</th>\n      <th>16th Most Common Venue</th>\n      <th>17th Most Common Venue</th>\n    </tr>\n  </thead>\n  <tbody>\n    <tr>\n      <th>1</th>\n      <td>York</td>\n      <td>0</td>\n      <td>Women's Store</td>\n      <td>Women's Store</td>\n      <td>Women's Store</td>\n      <td>Women's Store</td>\n      <td>Women's Store</td>\n      <td>Women's Store</td>\n      <td>Women's Store</td>\n      <td>Women's Store</td>\n      <td>Women's Store</td>\n      <td>Women's Store</td>\n      <td>Women's Store</td>\n      <td>Women's Store</td>\n      <td>Women's Store</td>\n      <td>Women's Store</td>\n      <td>Women's Store</td>\n      <td>Women's Store</td>\n      <td>Women's Store</td>\n    </tr>\n    <tr>\n      <th>4</th>\n      <td>York</td>\n      <td>0</td>\n      <td>Women's Store</td>\n      <td>Women's Store</td>\n      <td>Women's Store</td>\n      <td>Women's Store</td>\n      <td>Women's Store</td>\n      <td>Women's Store</td>\n      <td>Women's Store</td>\n      <td>Women's Store</td>\n      <td>Women's Store</td>\n      <td>Women's Store</td>\n      <td>Women's Store</td>\n      <td>Women's Store</td>\n      <td>Women's Store</td>\n      <td>Women's Store</td>\n      <td>Women's Store</td>\n      <td>Women's Store</td>\n      <td>Women's Store</td>\n    </tr>\n  </tbody>\n</table>\n</div>",
                        "text/plain": "  Borough  Cluster Labels 1st Most Common Venue 2nd Most Common Venue  \\\n1    York               0         Women's Store         Women's Store   \n4    York               0         Women's Store         Women's Store   \n\n  3rd Most Common Venue 4th Most Common Venue 5th Most Common Venue  \\\n1         Women's Store         Women's Store         Women's Store   \n4         Women's Store         Women's Store         Women's Store   \n\n  6th Most Common Venue 7th Most Common Venue 8th Most Common Venue  \\\n1         Women's Store         Women's Store         Women's Store   \n4         Women's Store         Women's Store         Women's Store   \n\n  9th Most Common Venue 10th Most Common Venue 11th Most Common Venue  \\\n1         Women's Store          Women's Store          Women's Store   \n4         Women's Store          Women's Store          Women's Store   \n\n  12th Most Common Venue 13th Most Common Venue 14th Most Common Venue  \\\n1          Women's Store          Women's Store          Women's Store   \n4          Women's Store          Women's Store          Women's Store   \n\n  15th Most Common Venue 16th Most Common Venue 17th Most Common Venue  \n1          Women's Store          Women's Store          Women's Store  \n4          Women's Store          Women's Store          Women's Store  "
                    },
                    "execution_count": 139,
                    "metadata": {},
                    "output_type": "execute_result"
                }
            ],
            "source": "york_merged.loc[york_merged['Cluster Labels'] == 0, york_merged.columns[[1] + list(range(5, york_merged.shape[1]))]]"
        },
        {
            "cell_type": "code",
            "execution_count": 140,
            "metadata": {},
            "outputs": [
                {
                    "data": {
                        "text/html": "<div>\n<style scoped>\n    .dataframe tbody tr th:only-of-type {\n        vertical-align: middle;\n    }\n\n    .dataframe tbody tr th {\n        vertical-align: top;\n    }\n\n    .dataframe thead th {\n        text-align: right;\n    }\n</style>\n<table border=\"1\" class=\"dataframe\">\n  <thead>\n    <tr style=\"text-align: right;\">\n      <th></th>\n      <th>Borough</th>\n      <th>Cluster Labels</th>\n      <th>1st Most Common Venue</th>\n      <th>2nd Most Common Venue</th>\n      <th>3rd Most Common Venue</th>\n      <th>4th Most Common Venue</th>\n      <th>5th Most Common Venue</th>\n      <th>6th Most Common Venue</th>\n      <th>7th Most Common Venue</th>\n      <th>8th Most Common Venue</th>\n      <th>9th Most Common Venue</th>\n      <th>10th Most Common Venue</th>\n      <th>11th Most Common Venue</th>\n      <th>12th Most Common Venue</th>\n      <th>13th Most Common Venue</th>\n      <th>14th Most Common Venue</th>\n      <th>15th Most Common Venue</th>\n      <th>16th Most Common Venue</th>\n      <th>17th Most Common Venue</th>\n    </tr>\n  </thead>\n  <tbody>\n    <tr>\n      <th>0</th>\n      <td>York</td>\n      <td>1</td>\n      <td>Women's Store</td>\n      <td>Women's Store</td>\n      <td>Women's Store</td>\n      <td>Women's Store</td>\n      <td>Women's Store</td>\n      <td>Women's Store</td>\n      <td>Women's Store</td>\n      <td>Women's Store</td>\n      <td>Women's Store</td>\n      <td>Women's Store</td>\n      <td>Women's Store</td>\n      <td>Women's Store</td>\n      <td>Women's Store</td>\n      <td>Women's Store</td>\n      <td>Women's Store</td>\n      <td>Women's Store</td>\n      <td>Women's Store</td>\n    </tr>\n    <tr>\n      <th>2</th>\n      <td>York</td>\n      <td>1</td>\n      <td>Women's Store</td>\n      <td>Women's Store</td>\n      <td>Women's Store</td>\n      <td>Women's Store</td>\n      <td>Women's Store</td>\n      <td>Women's Store</td>\n      <td>Women's Store</td>\n      <td>Women's Store</td>\n      <td>Women's Store</td>\n      <td>Women's Store</td>\n      <td>Women's Store</td>\n      <td>Women's Store</td>\n      <td>Women's Store</td>\n      <td>Women's Store</td>\n      <td>Women's Store</td>\n      <td>Women's Store</td>\n      <td>Women's Store</td>\n    </tr>\n    <tr>\n      <th>3</th>\n      <td>York</td>\n      <td>1</td>\n      <td>Women's Store</td>\n      <td>Women's Store</td>\n      <td>Women's Store</td>\n      <td>Women's Store</td>\n      <td>Women's Store</td>\n      <td>Women's Store</td>\n      <td>Women's Store</td>\n      <td>Women's Store</td>\n      <td>Women's Store</td>\n      <td>Women's Store</td>\n      <td>Women's Store</td>\n      <td>Women's Store</td>\n      <td>Women's Store</td>\n      <td>Women's Store</td>\n      <td>Women's Store</td>\n      <td>Women's Store</td>\n      <td>Women's Store</td>\n    </tr>\n  </tbody>\n</table>\n</div>",
                        "text/plain": "  Borough  Cluster Labels 1st Most Common Venue 2nd Most Common Venue  \\\n0    York               1         Women's Store         Women's Store   \n2    York               1         Women's Store         Women's Store   \n3    York               1         Women's Store         Women's Store   \n\n  3rd Most Common Venue 4th Most Common Venue 5th Most Common Venue  \\\n0         Women's Store         Women's Store         Women's Store   \n2         Women's Store         Women's Store         Women's Store   \n3         Women's Store         Women's Store         Women's Store   \n\n  6th Most Common Venue 7th Most Common Venue 8th Most Common Venue  \\\n0         Women's Store         Women's Store         Women's Store   \n2         Women's Store         Women's Store         Women's Store   \n3         Women's Store         Women's Store         Women's Store   \n\n  9th Most Common Venue 10th Most Common Venue 11th Most Common Venue  \\\n0         Women's Store          Women's Store          Women's Store   \n2         Women's Store          Women's Store          Women's Store   \n3         Women's Store          Women's Store          Women's Store   \n\n  12th Most Common Venue 13th Most Common Venue 14th Most Common Venue  \\\n0          Women's Store          Women's Store          Women's Store   \n2          Women's Store          Women's Store          Women's Store   \n3          Women's Store          Women's Store          Women's Store   \n\n  15th Most Common Venue 16th Most Common Venue 17th Most Common Venue  \n0          Women's Store          Women's Store          Women's Store  \n2          Women's Store          Women's Store          Women's Store  \n3          Women's Store          Women's Store          Women's Store  "
                    },
                    "execution_count": 140,
                    "metadata": {},
                    "output_type": "execute_result"
                }
            ],
            "source": "york_merged.loc[york_merged['Cluster Labels'] == 1, york_merged.columns[[1] + list(range(5, york_merged.shape[1]))]]"
        },
        {
            "cell_type": "code",
            "execution_count": null,
            "metadata": {},
            "outputs": [],
            "source": ""
        }
    ],
    "metadata": {
        "kernelspec": {
            "display_name": "Python 3.6",
            "language": "python",
            "name": "python3"
        },
        "language_info": {
            "codemirror_mode": {
                "name": "ipython",
                "version": 3
            },
            "file_extension": ".py",
            "mimetype": "text/x-python",
            "name": "python",
            "nbconvert_exporter": "python",
            "pygments_lexer": "ipython3",
            "version": "3.6.9"
        }
    },
    "nbformat": 4,
    "nbformat_minor": 1
}